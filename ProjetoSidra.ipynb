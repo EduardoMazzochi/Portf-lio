{
 "cells": [
  {
   "cell_type": "code",
   "execution_count": 38,
   "id": "5dcbf7cb-f7d2-4220-9360-c94bc27f959f",
   "metadata": {},
   "outputs": [],
   "source": [
    "import pandas as pd\n",
    "import numpy as np\n",
    "import matplotlib.pylab as plt"
   ]
  },
  {
   "cell_type": "code",
   "execution_count": 39,
   "id": "ab05fa46-9a25-4c03-89c4-91c2a2d4d839",
   "metadata": {},
   "outputs": [],
   "source": [
    "import sidrapy\n",
    "\n",
    "data = sidrapy.get_table(table_code=\"6586\", territorial_level=\"3\", ibge_territorial_code=\"all\", period=\"last 96\")"
   ]
  },
  {
   "cell_type": "code",
   "execution_count": 3,
   "id": "ee75cc41-e665-4392-a971-89ce81dbf0bf",
   "metadata": {},
   "outputs": [
    {
     "data": {
      "text/html": [
       "<div>\n",
       "<style scoped>\n",
       "    .dataframe tbody tr th:only-of-type {\n",
       "        vertical-align: middle;\n",
       "    }\n",
       "\n",
       "    .dataframe tbody tr th {\n",
       "        vertical-align: top;\n",
       "    }\n",
       "\n",
       "    .dataframe thead th {\n",
       "        text-align: right;\n",
       "    }\n",
       "</style>\n",
       "<table border=\"1\" class=\"dataframe\">\n",
       "  <thead>\n",
       "    <tr style=\"text-align: right;\">\n",
       "      <th></th>\n",
       "      <th>NC</th>\n",
       "      <th>NN</th>\n",
       "      <th>MC</th>\n",
       "      <th>MN</th>\n",
       "      <th>V</th>\n",
       "      <th>D1C</th>\n",
       "      <th>D1N</th>\n",
       "      <th>D2C</th>\n",
       "      <th>D2N</th>\n",
       "      <th>D3C</th>\n",
       "      <th>D3N</th>\n",
       "    </tr>\n",
       "  </thead>\n",
       "  <tbody>\n",
       "    <tr>\n",
       "      <th>0</th>\n",
       "      <td>Nível Territorial (Código)</td>\n",
       "      <td>Nível Territorial</td>\n",
       "      <td>Unidade de Medida (Código)</td>\n",
       "      <td>Unidade de Medida</td>\n",
       "      <td>Valor</td>\n",
       "      <td>Unidade da Federação (Código)</td>\n",
       "      <td>Unidade da Federação</td>\n",
       "      <td>Mês (Código)</td>\n",
       "      <td>Mês</td>\n",
       "      <td>Variável (Código)</td>\n",
       "      <td>Variável</td>\n",
       "    </tr>\n",
       "    <tr>\n",
       "      <th>1</th>\n",
       "      <td>3</td>\n",
       "      <td>Unidade da Federação</td>\n",
       "      <td>38</td>\n",
       "      <td>Reais</td>\n",
       "      <td>1138.83</td>\n",
       "      <td>11</td>\n",
       "      <td>Rondônia</td>\n",
       "      <td>201701</td>\n",
       "      <td>janeiro 2017</td>\n",
       "      <td>9327</td>\n",
       "      <td>Custo médio m² - moeda corrente, sem desoneraç...</td>\n",
       "    </tr>\n",
       "    <tr>\n",
       "      <th>2</th>\n",
       "      <td>3</td>\n",
       "      <td>Unidade da Federação</td>\n",
       "      <td>38</td>\n",
       "      <td>Reais</td>\n",
       "      <td>590.45</td>\n",
       "      <td>11</td>\n",
       "      <td>Rondônia</td>\n",
       "      <td>201701</td>\n",
       "      <td>janeiro 2017</td>\n",
       "      <td>9328</td>\n",
       "      <td>Custo médio m² - componente material - moeda c...</td>\n",
       "    </tr>\n",
       "    <tr>\n",
       "      <th>3</th>\n",
       "      <td>3</td>\n",
       "      <td>Unidade da Federação</td>\n",
       "      <td>38</td>\n",
       "      <td>Reais</td>\n",
       "      <td>548.38</td>\n",
       "      <td>11</td>\n",
       "      <td>Rondônia</td>\n",
       "      <td>201701</td>\n",
       "      <td>janeiro 2017</td>\n",
       "      <td>9329</td>\n",
       "      <td>Custo médio m² - componente mão-de-obra - moed...</td>\n",
       "    </tr>\n",
       "    <tr>\n",
       "      <th>4</th>\n",
       "      <td>3</td>\n",
       "      <td>Unidade da Federação</td>\n",
       "      <td>30</td>\n",
       "      <td>Número-índice</td>\n",
       "      <td>634.95</td>\n",
       "      <td>11</td>\n",
       "      <td>Rondônia</td>\n",
       "      <td>201701</td>\n",
       "      <td>janeiro 2017</td>\n",
       "      <td>9330</td>\n",
       "      <td>Custo médio m² - número-índice, sem desoneraçã...</td>\n",
       "    </tr>\n",
       "    <tr>\n",
       "      <th>...</th>\n",
       "      <td>...</td>\n",
       "      <td>...</td>\n",
       "      <td>...</td>\n",
       "      <td>...</td>\n",
       "      <td>...</td>\n",
       "      <td>...</td>\n",
       "      <td>...</td>\n",
       "      <td>...</td>\n",
       "      <td>...</td>\n",
       "      <td>...</td>\n",
       "      <td>...</td>\n",
       "    </tr>\n",
       "    <tr>\n",
       "      <th>15548</th>\n",
       "      <td>3</td>\n",
       "      <td>Unidade da Federação</td>\n",
       "      <td>30</td>\n",
       "      <td>Número-índice</td>\n",
       "      <td>682.87</td>\n",
       "      <td>53</td>\n",
       "      <td>Distrito Federal</td>\n",
       "      <td>202204</td>\n",
       "      <td>abril 2022</td>\n",
       "      <td>9331</td>\n",
       "      <td>Custo médio m² - componente material - número-...</td>\n",
       "    </tr>\n",
       "    <tr>\n",
       "      <th>15549</th>\n",
       "      <td>3</td>\n",
       "      <td>Unidade da Federação</td>\n",
       "      <td>30</td>\n",
       "      <td>Número-índice</td>\n",
       "      <td>967.23</td>\n",
       "      <td>53</td>\n",
       "      <td>Distrito Federal</td>\n",
       "      <td>202204</td>\n",
       "      <td>abril 2022</td>\n",
       "      <td>9332</td>\n",
       "      <td>Custo médio m² - componente mão-de-obra - núme...</td>\n",
       "    </tr>\n",
       "    <tr>\n",
       "      <th>15550</th>\n",
       "      <td>3</td>\n",
       "      <td>Unidade da Federação</td>\n",
       "      <td>2</td>\n",
       "      <td>%</td>\n",
       "      <td>0.76</td>\n",
       "      <td>53</td>\n",
       "      <td>Distrito Federal</td>\n",
       "      <td>202204</td>\n",
       "      <td>abril 2022</td>\n",
       "      <td>9333</td>\n",
       "      <td>Custo médio m² - variação percentual no mês, s...</td>\n",
       "    </tr>\n",
       "    <tr>\n",
       "      <th>15551</th>\n",
       "      <td>3</td>\n",
       "      <td>Unidade da Federação</td>\n",
       "      <td>2</td>\n",
       "      <td>%</td>\n",
       "      <td>2.55</td>\n",
       "      <td>53</td>\n",
       "      <td>Distrito Federal</td>\n",
       "      <td>202204</td>\n",
       "      <td>abril 2022</td>\n",
       "      <td>9334</td>\n",
       "      <td>Custo médio m² - variação percentual no ano, s...</td>\n",
       "    </tr>\n",
       "    <tr>\n",
       "      <th>15552</th>\n",
       "      <td>3</td>\n",
       "      <td>Unidade da Federação</td>\n",
       "      <td>2</td>\n",
       "      <td>%</td>\n",
       "      <td>16.58</td>\n",
       "      <td>53</td>\n",
       "      <td>Distrito Federal</td>\n",
       "      <td>202204</td>\n",
       "      <td>abril 2022</td>\n",
       "      <td>9335</td>\n",
       "      <td>Custo médio m² - variação percentual em doze m...</td>\n",
       "    </tr>\n",
       "  </tbody>\n",
       "</table>\n",
       "<p>15553 rows × 11 columns</p>\n",
       "</div>"
      ],
      "text/plain": [
       "                               NC                    NN  \\\n",
       "0      Nível Territorial (Código)     Nível Territorial   \n",
       "1                               3  Unidade da Federação   \n",
       "2                               3  Unidade da Federação   \n",
       "3                               3  Unidade da Federação   \n",
       "4                               3  Unidade da Federação   \n",
       "...                           ...                   ...   \n",
       "15548                           3  Unidade da Federação   \n",
       "15549                           3  Unidade da Federação   \n",
       "15550                           3  Unidade da Federação   \n",
       "15551                           3  Unidade da Federação   \n",
       "15552                           3  Unidade da Federação   \n",
       "\n",
       "                               MC                 MN        V  \\\n",
       "0      Unidade de Medida (Código)  Unidade de Medida    Valor   \n",
       "1                              38              Reais  1138.83   \n",
       "2                              38              Reais   590.45   \n",
       "3                              38              Reais   548.38   \n",
       "4                              30      Número-índice   634.95   \n",
       "...                           ...                ...      ...   \n",
       "15548                          30      Número-índice   682.87   \n",
       "15549                          30      Número-índice   967.23   \n",
       "15550                           2                  %     0.76   \n",
       "15551                           2                  %     2.55   \n",
       "15552                           2                  %    16.58   \n",
       "\n",
       "                                 D1C                   D1N           D2C  \\\n",
       "0      Unidade da Federação (Código)  Unidade da Federação  Mês (Código)   \n",
       "1                                 11              Rondônia        201701   \n",
       "2                                 11              Rondônia        201701   \n",
       "3                                 11              Rondônia        201701   \n",
       "4                                 11              Rondônia        201701   \n",
       "...                              ...                   ...           ...   \n",
       "15548                             53      Distrito Federal        202204   \n",
       "15549                             53      Distrito Federal        202204   \n",
       "15550                             53      Distrito Federal        202204   \n",
       "15551                             53      Distrito Federal        202204   \n",
       "15552                             53      Distrito Federal        202204   \n",
       "\n",
       "                D2N                D3C  \\\n",
       "0               Mês  Variável (Código)   \n",
       "1      janeiro 2017               9327   \n",
       "2      janeiro 2017               9328   \n",
       "3      janeiro 2017               9329   \n",
       "4      janeiro 2017               9330   \n",
       "...             ...                ...   \n",
       "15548    abril 2022               9331   \n",
       "15549    abril 2022               9332   \n",
       "15550    abril 2022               9333   \n",
       "15551    abril 2022               9334   \n",
       "15552    abril 2022               9335   \n",
       "\n",
       "                                                     D3N  \n",
       "0                                               Variável  \n",
       "1      Custo médio m² - moeda corrente, sem desoneraç...  \n",
       "2      Custo médio m² - componente material - moeda c...  \n",
       "3      Custo médio m² - componente mão-de-obra - moed...  \n",
       "4      Custo médio m² - número-índice, sem desoneraçã...  \n",
       "...                                                  ...  \n",
       "15548  Custo médio m² - componente material - número-...  \n",
       "15549  Custo médio m² - componente mão-de-obra - núme...  \n",
       "15550  Custo médio m² - variação percentual no mês, s...  \n",
       "15551  Custo médio m² - variação percentual no ano, s...  \n",
       "15552  Custo médio m² - variação percentual em doze m...  \n",
       "\n",
       "[15553 rows x 11 columns]"
      ]
     },
     "execution_count": 3,
     "metadata": {},
     "output_type": "execute_result"
    }
   ],
   "source": [
    "data"
   ]
  },
  {
   "cell_type": "code",
   "execution_count": 24,
   "id": "86f9d650-7451-4c89-837e-343fcf93fcfa",
   "metadata": {},
   "outputs": [
    {
     "data": {
      "text/plain": [
       "0\n",
       "Valor                   0\n",
       "Unidade da Federação    0\n",
       "Mês                     0\n",
       "Variável                0\n",
       "dtype: int64"
      ]
     },
     "execution_count": 24,
     "metadata": {},
     "output_type": "execute_result"
    }
   ],
   "source": [
    "data.isnull().sum() # Valores nulos"
   ]
  },
  {
   "cell_type": "code",
   "execution_count": 23,
   "id": "893c439c-0bfb-4b16-8a4d-8041dbdfe2e9",
   "metadata": {},
   "outputs": [
    {
     "data": {
      "text/plain": [
       "0"
      ]
     },
     "execution_count": 23,
     "metadata": {},
     "output_type": "execute_result"
    }
   ],
   "source": [
    "data.duplicated().sum() # Linhas duplicadas"
   ]
  },
  {
   "cell_type": "code",
   "execution_count": 25,
   "id": "10f334eb-2115-4170-9ce7-8826d9fcb653",
   "metadata": {},
   "outputs": [
    {
     "name": "stdout",
     "output_type": "stream",
     "text": [
      "<class 'pandas.core.frame.DataFrame'>\n",
      "Int64Index: 15552 entries, 1 to 15552\n",
      "Data columns (total 4 columns):\n",
      " #   Column                Non-Null Count  Dtype \n",
      "---  ------                --------------  ----- \n",
      " 0   Valor                 15552 non-null  object\n",
      " 1   Unidade da Federação  15552 non-null  object\n",
      " 2   Mês                   15552 non-null  object\n",
      " 3   Variável              15552 non-null  object\n",
      "dtypes: object(4)\n",
      "memory usage: 607.5+ KB\n"
     ]
    }
   ],
   "source": [
    "data.info()"
   ]
  },
  {
   "cell_type": "code",
   "execution_count": 4,
   "id": "5c3b81ad-1f91-49d5-b3d8-a15b3b097732",
   "metadata": {},
   "outputs": [],
   "source": [
    "data.drop(['NC','NN','MC','MN','D1C','D2C','D3C'], axis=1, inplace = True)"
   ]
  },
  {
   "cell_type": "code",
   "execution_count": 5,
   "id": "b1926234-dbe1-4e27-a215-08200f911f93",
   "metadata": {},
   "outputs": [],
   "source": [
    "data.columns = data.loc[0,:]"
   ]
  },
  {
   "cell_type": "code",
   "execution_count": 6,
   "id": "024a40cb-d756-4267-aaa6-d02939ecc68b",
   "metadata": {},
   "outputs": [],
   "source": [
    "data.drop([0], axis = 0, inplace = True)"
   ]
  },
  {
   "cell_type": "code",
   "execution_count": 7,
   "id": "65b88608-5e6a-4d14-bee8-8571d56c71cf",
   "metadata": {},
   "outputs": [
    {
     "data": {
      "text/html": [
       "<div>\n",
       "<style scoped>\n",
       "    .dataframe tbody tr th:only-of-type {\n",
       "        vertical-align: middle;\n",
       "    }\n",
       "\n",
       "    .dataframe tbody tr th {\n",
       "        vertical-align: top;\n",
       "    }\n",
       "\n",
       "    .dataframe thead th {\n",
       "        text-align: right;\n",
       "    }\n",
       "</style>\n",
       "<table border=\"1\" class=\"dataframe\">\n",
       "  <thead>\n",
       "    <tr style=\"text-align: right;\">\n",
       "      <th></th>\n",
       "      <th>Valor</th>\n",
       "      <th>Unidade da Federação</th>\n",
       "      <th>Mês</th>\n",
       "      <th>Variável</th>\n",
       "    </tr>\n",
       "  </thead>\n",
       "  <tbody>\n",
       "    <tr>\n",
       "      <th>1</th>\n",
       "      <td>1138.83</td>\n",
       "      <td>Rondônia</td>\n",
       "      <td>janeiro 2017</td>\n",
       "      <td>Custo médio m² - moeda corrente, sem desoneraç...</td>\n",
       "    </tr>\n",
       "    <tr>\n",
       "      <th>2</th>\n",
       "      <td>590.45</td>\n",
       "      <td>Rondônia</td>\n",
       "      <td>janeiro 2017</td>\n",
       "      <td>Custo médio m² - componente material - moeda c...</td>\n",
       "    </tr>\n",
       "    <tr>\n",
       "      <th>3</th>\n",
       "      <td>548.38</td>\n",
       "      <td>Rondônia</td>\n",
       "      <td>janeiro 2017</td>\n",
       "      <td>Custo médio m² - componente mão-de-obra - moed...</td>\n",
       "    </tr>\n",
       "    <tr>\n",
       "      <th>4</th>\n",
       "      <td>634.95</td>\n",
       "      <td>Rondônia</td>\n",
       "      <td>janeiro 2017</td>\n",
       "      <td>Custo médio m² - número-índice, sem desoneraçã...</td>\n",
       "    </tr>\n",
       "    <tr>\n",
       "      <th>5</th>\n",
       "      <td>449.69</td>\n",
       "      <td>Rondônia</td>\n",
       "      <td>janeiro 2017</td>\n",
       "      <td>Custo médio m² - componente material - número-...</td>\n",
       "    </tr>\n",
       "    <tr>\n",
       "      <th>...</th>\n",
       "      <td>...</td>\n",
       "      <td>...</td>\n",
       "      <td>...</td>\n",
       "      <td>...</td>\n",
       "    </tr>\n",
       "    <tr>\n",
       "      <th>15548</th>\n",
       "      <td>682.87</td>\n",
       "      <td>Distrito Federal</td>\n",
       "      <td>abril 2022</td>\n",
       "      <td>Custo médio m² - componente material - número-...</td>\n",
       "    </tr>\n",
       "    <tr>\n",
       "      <th>15549</th>\n",
       "      <td>967.23</td>\n",
       "      <td>Distrito Federal</td>\n",
       "      <td>abril 2022</td>\n",
       "      <td>Custo médio m² - componente mão-de-obra - núme...</td>\n",
       "    </tr>\n",
       "    <tr>\n",
       "      <th>15550</th>\n",
       "      <td>0.76</td>\n",
       "      <td>Distrito Federal</td>\n",
       "      <td>abril 2022</td>\n",
       "      <td>Custo médio m² - variação percentual no mês, s...</td>\n",
       "    </tr>\n",
       "    <tr>\n",
       "      <th>15551</th>\n",
       "      <td>2.55</td>\n",
       "      <td>Distrito Federal</td>\n",
       "      <td>abril 2022</td>\n",
       "      <td>Custo médio m² - variação percentual no ano, s...</td>\n",
       "    </tr>\n",
       "    <tr>\n",
       "      <th>15552</th>\n",
       "      <td>16.58</td>\n",
       "      <td>Distrito Federal</td>\n",
       "      <td>abril 2022</td>\n",
       "      <td>Custo médio m² - variação percentual em doze m...</td>\n",
       "    </tr>\n",
       "  </tbody>\n",
       "</table>\n",
       "<p>15552 rows × 4 columns</p>\n",
       "</div>"
      ],
      "text/plain": [
       "0        Valor Unidade da Federação           Mês  \\\n",
       "1      1138.83             Rondônia  janeiro 2017   \n",
       "2       590.45             Rondônia  janeiro 2017   \n",
       "3       548.38             Rondônia  janeiro 2017   \n",
       "4       634.95             Rondônia  janeiro 2017   \n",
       "5       449.69             Rondônia  janeiro 2017   \n",
       "...        ...                  ...           ...   \n",
       "15548   682.87     Distrito Federal    abril 2022   \n",
       "15549   967.23     Distrito Federal    abril 2022   \n",
       "15550     0.76     Distrito Federal    abril 2022   \n",
       "15551     2.55     Distrito Federal    abril 2022   \n",
       "15552    16.58     Distrito Federal    abril 2022   \n",
       "\n",
       "0                                               Variável  \n",
       "1      Custo médio m² - moeda corrente, sem desoneraç...  \n",
       "2      Custo médio m² - componente material - moeda c...  \n",
       "3      Custo médio m² - componente mão-de-obra - moed...  \n",
       "4      Custo médio m² - número-índice, sem desoneraçã...  \n",
       "5      Custo médio m² - componente material - número-...  \n",
       "...                                                  ...  \n",
       "15548  Custo médio m² - componente material - número-...  \n",
       "15549  Custo médio m² - componente mão-de-obra - núme...  \n",
       "15550  Custo médio m² - variação percentual no mês, s...  \n",
       "15551  Custo médio m² - variação percentual no ano, s...  \n",
       "15552  Custo médio m² - variação percentual em doze m...  \n",
       "\n",
       "[15552 rows x 4 columns]"
      ]
     },
     "execution_count": 7,
     "metadata": {},
     "output_type": "execute_result"
    }
   ],
   "source": [
    "data"
   ]
  },
  {
   "cell_type": "code",
   "execution_count": 8,
   "id": "6edc553c-5338-4000-9866-74391ef64ccc",
   "metadata": {},
   "outputs": [
    {
     "data": {
      "text/plain": [
       "array(['Custo médio m² - moeda corrente, sem desoneração da folha de pagamento',\n",
       "       'Custo médio m² - componente material - moeda corrente, sem desoneração da folha de pagamento',\n",
       "       'Custo médio m² - componente mão-de-obra - moeda corrente, sem desoneração da folha de pagamento',\n",
       "       'Custo médio m² - número-índice, sem desoneração da folha de pagamento',\n",
       "       'Custo médio m² - componente material - número-índice, sem desoneração da folha de pagamento',\n",
       "       'Custo médio m² - componente mão-de-obra - número-índice, sem desoneração da folha de pagamento',\n",
       "       'Custo médio m² - variação percentual no mês, sem desoneração da folha de pagamento',\n",
       "       'Custo médio m² - variação percentual no ano, sem desoneração da folha de pagamento',\n",
       "       'Custo médio m² - variação percentual em doze meses, sem desoneração da folha de pagamento'],\n",
       "      dtype=object)"
      ]
     },
     "execution_count": 8,
     "metadata": {},
     "output_type": "execute_result"
    }
   ],
   "source": [
    "data.Variável.unique()"
   ]
  },
  {
   "cell_type": "code",
   "execution_count": 9,
   "id": "1b42d9e8-6656-4c15-8432-01eed73f2ea1",
   "metadata": {},
   "outputs": [],
   "source": [
    "dfcusto = data[data.Variável == 'Custo médio m² - moeda corrente, sem desoneração da folha de pagamento']\n",
    "dfmat = data[data.Variável ==  'Custo médio m² - componente material - moeda corrente, sem desoneração da folha de pagamento']\n",
    "dfmao = data[data.Variável == 'Custo médio m² - componente mão-de-obra - moeda corrente, sem desoneração da folha de pagamento']\n",
    "df4 = data[data.Variável == 'Custo médio m² - número-índice, sem desoneração da folha de pagamento']\n",
    "df5 = data[data.Variável == 'Custo médio m² - componente material - número-índice, sem desoneração da folha de pagamento']\n",
    "df6 = data[data.Variável ==  'Custo médio m² - variação percentual no mês, sem desoneração da folha de pagamento']\n",
    "df7 = data[data.Variável ==  'Custo médio m² - variação percentual no ano, sem desoneração da folha de pagamento']\n",
    "df8 = data[data.Variável == 'Custo médio m² - variação percentual em doze meses, sem desoneração da folha de pagamento']"
   ]
  },
  {
   "cell_type": "code",
   "execution_count": 12,
   "id": "37719196-0840-4d39-9035-b70e76978297",
   "metadata": {},
   "outputs": [
    {
     "name": "stderr",
     "output_type": "stream",
     "text": [
      "C:\\Users\\DELL\\anaconda3\\lib\\site-packages\\pandas\\core\\frame.py:4906: SettingWithCopyWarning: \n",
      "A value is trying to be set on a copy of a slice from a DataFrame\n",
      "\n",
      "See the caveats in the documentation: https://pandas.pydata.org/pandas-docs/stable/user_guide/indexing.html#returning-a-view-versus-a-copy\n",
      "  return super().drop(\n"
     ]
    }
   ],
   "source": [
    "dfcusto.drop(['Variável'], axis=1, inplace = True)"
   ]
  },
  {
   "cell_type": "code",
   "execution_count": 14,
   "id": "e683cacf-0a64-42b2-9c4c-0b4741582d20",
   "metadata": {},
   "outputs": [
    {
     "data": {
      "text/html": [
       "<div>\n",
       "<style scoped>\n",
       "    .dataframe tbody tr th:only-of-type {\n",
       "        vertical-align: middle;\n",
       "    }\n",
       "\n",
       "    .dataframe tbody tr th {\n",
       "        vertical-align: top;\n",
       "    }\n",
       "\n",
       "    .dataframe thead th {\n",
       "        text-align: right;\n",
       "    }\n",
       "</style>\n",
       "<table border=\"1\" class=\"dataframe\">\n",
       "  <thead>\n",
       "    <tr style=\"text-align: right;\">\n",
       "      <th></th>\n",
       "      <th>Valor</th>\n",
       "      <th>Unidade da Federação</th>\n",
       "      <th>Mês</th>\n",
       "    </tr>\n",
       "  </thead>\n",
       "  <tbody>\n",
       "    <tr>\n",
       "      <th>1</th>\n",
       "      <td>1138.83</td>\n",
       "      <td>Rondônia</td>\n",
       "      <td>janeiro 2017</td>\n",
       "    </tr>\n",
       "    <tr>\n",
       "      <th>10</th>\n",
       "      <td>1141.95</td>\n",
       "      <td>Rondônia</td>\n",
       "      <td>fevereiro 2017</td>\n",
       "    </tr>\n",
       "    <tr>\n",
       "      <th>19</th>\n",
       "      <td>1145.55</td>\n",
       "      <td>Rondônia</td>\n",
       "      <td>março 2017</td>\n",
       "    </tr>\n",
       "    <tr>\n",
       "      <th>28</th>\n",
       "      <td>1141.59</td>\n",
       "      <td>Rondônia</td>\n",
       "      <td>abril 2017</td>\n",
       "    </tr>\n",
       "    <tr>\n",
       "      <th>37</th>\n",
       "      <td>1137.98</td>\n",
       "      <td>Rondônia</td>\n",
       "      <td>maio 2017</td>\n",
       "    </tr>\n",
       "    <tr>\n",
       "      <th>...</th>\n",
       "      <td>...</td>\n",
       "      <td>...</td>\n",
       "      <td>...</td>\n",
       "    </tr>\n",
       "    <tr>\n",
       "      <th>15508</th>\n",
       "      <td>1675.37</td>\n",
       "      <td>Distrito Federal</td>\n",
       "      <td>dezembro 2021</td>\n",
       "    </tr>\n",
       "    <tr>\n",
       "      <th>15517</th>\n",
       "      <td>1680.66</td>\n",
       "      <td>Distrito Federal</td>\n",
       "      <td>janeiro 2022</td>\n",
       "    </tr>\n",
       "    <tr>\n",
       "      <th>15526</th>\n",
       "      <td>1695.98</td>\n",
       "      <td>Distrito Federal</td>\n",
       "      <td>fevereiro 2022</td>\n",
       "    </tr>\n",
       "    <tr>\n",
       "      <th>15535</th>\n",
       "      <td>1705.11</td>\n",
       "      <td>Distrito Federal</td>\n",
       "      <td>março 2022</td>\n",
       "    </tr>\n",
       "    <tr>\n",
       "      <th>15544</th>\n",
       "      <td>1718.15</td>\n",
       "      <td>Distrito Federal</td>\n",
       "      <td>abril 2022</td>\n",
       "    </tr>\n",
       "  </tbody>\n",
       "</table>\n",
       "<p>1728 rows × 3 columns</p>\n",
       "</div>"
      ],
      "text/plain": [
       "0        Valor Unidade da Federação             Mês\n",
       "1      1138.83             Rondônia    janeiro 2017\n",
       "10     1141.95             Rondônia  fevereiro 2017\n",
       "19     1145.55             Rondônia      março 2017\n",
       "28     1141.59             Rondônia      abril 2017\n",
       "37     1137.98             Rondônia       maio 2017\n",
       "...        ...                  ...             ...\n",
       "15508  1675.37     Distrito Federal   dezembro 2021\n",
       "15517  1680.66     Distrito Federal    janeiro 2022\n",
       "15526  1695.98     Distrito Federal  fevereiro 2022\n",
       "15535  1705.11     Distrito Federal      março 2022\n",
       "15544  1718.15     Distrito Federal      abril 2022\n",
       "\n",
       "[1728 rows x 3 columns]"
      ]
     },
     "execution_count": 14,
     "metadata": {},
     "output_type": "execute_result"
    }
   ],
   "source": [
    "dfcusto"
   ]
  },
  {
   "cell_type": "code",
   "execution_count": 15,
   "id": "f6352b74-e42d-45cd-96aa-50b11c5368ec",
   "metadata": {},
   "outputs": [
    {
     "name": "stderr",
     "output_type": "stream",
     "text": [
      "C:\\Users\\DELL\\anaconda3\\lib\\site-packages\\pandas\\core\\frame.py:4906: SettingWithCopyWarning: \n",
      "A value is trying to be set on a copy of a slice from a DataFrame\n",
      "\n",
      "See the caveats in the documentation: https://pandas.pydata.org/pandas-docs/stable/user_guide/indexing.html#returning-a-view-versus-a-copy\n",
      "  return super().drop(\n"
     ]
    },
    {
     "data": {
      "text/html": [
       "<div>\n",
       "<style scoped>\n",
       "    .dataframe tbody tr th:only-of-type {\n",
       "        vertical-align: middle;\n",
       "    }\n",
       "\n",
       "    .dataframe tbody tr th {\n",
       "        vertical-align: top;\n",
       "    }\n",
       "\n",
       "    .dataframe thead th {\n",
       "        text-align: right;\n",
       "    }\n",
       "</style>\n",
       "<table border=\"1\" class=\"dataframe\">\n",
       "  <thead>\n",
       "    <tr style=\"text-align: right;\">\n",
       "      <th></th>\n",
       "      <th>Valor</th>\n",
       "      <th>Unidade da Federação</th>\n",
       "      <th>Mês</th>\n",
       "    </tr>\n",
       "  </thead>\n",
       "  <tbody>\n",
       "    <tr>\n",
       "      <th>2</th>\n",
       "      <td>590.45</td>\n",
       "      <td>Rondônia</td>\n",
       "      <td>janeiro 2017</td>\n",
       "    </tr>\n",
       "    <tr>\n",
       "      <th>11</th>\n",
       "      <td>596.69</td>\n",
       "      <td>Rondônia</td>\n",
       "      <td>fevereiro 2017</td>\n",
       "    </tr>\n",
       "    <tr>\n",
       "      <th>20</th>\n",
       "      <td>597.17</td>\n",
       "      <td>Rondônia</td>\n",
       "      <td>março 2017</td>\n",
       "    </tr>\n",
       "    <tr>\n",
       "      <th>29</th>\n",
       "      <td>593.21</td>\n",
       "      <td>Rondônia</td>\n",
       "      <td>abril 2017</td>\n",
       "    </tr>\n",
       "    <tr>\n",
       "      <th>38</th>\n",
       "      <td>592.72</td>\n",
       "      <td>Rondônia</td>\n",
       "      <td>maio 2017</td>\n",
       "    </tr>\n",
       "    <tr>\n",
       "      <th>...</th>\n",
       "      <td>...</td>\n",
       "      <td>...</td>\n",
       "      <td>...</td>\n",
       "    </tr>\n",
       "    <tr>\n",
       "      <th>15509</th>\n",
       "      <td>985.67</td>\n",
       "      <td>Distrito Federal</td>\n",
       "      <td>dezembro 2021</td>\n",
       "    </tr>\n",
       "    <tr>\n",
       "      <th>15518</th>\n",
       "      <td>992.15</td>\n",
       "      <td>Distrito Federal</td>\n",
       "      <td>janeiro 2022</td>\n",
       "    </tr>\n",
       "    <tr>\n",
       "      <th>15527</th>\n",
       "      <td>1007.47</td>\n",
       "      <td>Distrito Federal</td>\n",
       "      <td>fevereiro 2022</td>\n",
       "    </tr>\n",
       "    <tr>\n",
       "      <th>15536</th>\n",
       "      <td>1016.32</td>\n",
       "      <td>Distrito Federal</td>\n",
       "      <td>março 2022</td>\n",
       "    </tr>\n",
       "    <tr>\n",
       "      <th>15545</th>\n",
       "      <td>1029.36</td>\n",
       "      <td>Distrito Federal</td>\n",
       "      <td>abril 2022</td>\n",
       "    </tr>\n",
       "  </tbody>\n",
       "</table>\n",
       "<p>1728 rows × 3 columns</p>\n",
       "</div>"
      ],
      "text/plain": [
       "0        Valor Unidade da Federação             Mês\n",
       "2       590.45             Rondônia    janeiro 2017\n",
       "11      596.69             Rondônia  fevereiro 2017\n",
       "20      597.17             Rondônia      março 2017\n",
       "29      593.21             Rondônia      abril 2017\n",
       "38      592.72             Rondônia       maio 2017\n",
       "...        ...                  ...             ...\n",
       "15509   985.67     Distrito Federal   dezembro 2021\n",
       "15518   992.15     Distrito Federal    janeiro 2022\n",
       "15527  1007.47     Distrito Federal  fevereiro 2022\n",
       "15536  1016.32     Distrito Federal      março 2022\n",
       "15545  1029.36     Distrito Federal      abril 2022\n",
       "\n",
       "[1728 rows x 3 columns]"
      ]
     },
     "execution_count": 15,
     "metadata": {},
     "output_type": "execute_result"
    }
   ],
   "source": [
    "dfmat.drop(['Variável'], axis=1, inplace = True)\n",
    "dfmat"
   ]
  },
  {
   "cell_type": "code",
   "execution_count": 16,
   "id": "0e950c71-5f21-43e3-832f-a5a63154f398",
   "metadata": {},
   "outputs": [
    {
     "name": "stderr",
     "output_type": "stream",
     "text": [
      "C:\\Users\\DELL\\anaconda3\\lib\\site-packages\\pandas\\core\\frame.py:4906: SettingWithCopyWarning: \n",
      "A value is trying to be set on a copy of a slice from a DataFrame\n",
      "\n",
      "See the caveats in the documentation: https://pandas.pydata.org/pandas-docs/stable/user_guide/indexing.html#returning-a-view-versus-a-copy\n",
      "  return super().drop(\n"
     ]
    },
    {
     "data": {
      "text/html": [
       "<div>\n",
       "<style scoped>\n",
       "    .dataframe tbody tr th:only-of-type {\n",
       "        vertical-align: middle;\n",
       "    }\n",
       "\n",
       "    .dataframe tbody tr th {\n",
       "        vertical-align: top;\n",
       "    }\n",
       "\n",
       "    .dataframe thead th {\n",
       "        text-align: right;\n",
       "    }\n",
       "</style>\n",
       "<table border=\"1\" class=\"dataframe\">\n",
       "  <thead>\n",
       "    <tr style=\"text-align: right;\">\n",
       "      <th></th>\n",
       "      <th>Valor</th>\n",
       "      <th>Unidade da Federação</th>\n",
       "      <th>Mês</th>\n",
       "    </tr>\n",
       "  </thead>\n",
       "  <tbody>\n",
       "    <tr>\n",
       "      <th>3</th>\n",
       "      <td>548.38</td>\n",
       "      <td>Rondônia</td>\n",
       "      <td>janeiro 2017</td>\n",
       "    </tr>\n",
       "    <tr>\n",
       "      <th>12</th>\n",
       "      <td>545.26</td>\n",
       "      <td>Rondônia</td>\n",
       "      <td>fevereiro 2017</td>\n",
       "    </tr>\n",
       "    <tr>\n",
       "      <th>21</th>\n",
       "      <td>548.38</td>\n",
       "      <td>Rondônia</td>\n",
       "      <td>março 2017</td>\n",
       "    </tr>\n",
       "    <tr>\n",
       "      <th>30</th>\n",
       "      <td>548.38</td>\n",
       "      <td>Rondônia</td>\n",
       "      <td>abril 2017</td>\n",
       "    </tr>\n",
       "    <tr>\n",
       "      <th>39</th>\n",
       "      <td>545.26</td>\n",
       "      <td>Rondônia</td>\n",
       "      <td>maio 2017</td>\n",
       "    </tr>\n",
       "    <tr>\n",
       "      <th>...</th>\n",
       "      <td>...</td>\n",
       "      <td>...</td>\n",
       "      <td>...</td>\n",
       "    </tr>\n",
       "    <tr>\n",
       "      <th>15510</th>\n",
       "      <td>689.70</td>\n",
       "      <td>Distrito Federal</td>\n",
       "      <td>dezembro 2021</td>\n",
       "    </tr>\n",
       "    <tr>\n",
       "      <th>15519</th>\n",
       "      <td>688.51</td>\n",
       "      <td>Distrito Federal</td>\n",
       "      <td>janeiro 2022</td>\n",
       "    </tr>\n",
       "    <tr>\n",
       "      <th>15528</th>\n",
       "      <td>688.51</td>\n",
       "      <td>Distrito Federal</td>\n",
       "      <td>fevereiro 2022</td>\n",
       "    </tr>\n",
       "    <tr>\n",
       "      <th>15537</th>\n",
       "      <td>688.79</td>\n",
       "      <td>Distrito Federal</td>\n",
       "      <td>março 2022</td>\n",
       "    </tr>\n",
       "    <tr>\n",
       "      <th>15546</th>\n",
       "      <td>688.79</td>\n",
       "      <td>Distrito Federal</td>\n",
       "      <td>abril 2022</td>\n",
       "    </tr>\n",
       "  </tbody>\n",
       "</table>\n",
       "<p>1728 rows × 3 columns</p>\n",
       "</div>"
      ],
      "text/plain": [
       "0       Valor Unidade da Federação             Mês\n",
       "3      548.38             Rondônia    janeiro 2017\n",
       "12     545.26             Rondônia  fevereiro 2017\n",
       "21     548.38             Rondônia      março 2017\n",
       "30     548.38             Rondônia      abril 2017\n",
       "39     545.26             Rondônia       maio 2017\n",
       "...       ...                  ...             ...\n",
       "15510  689.70     Distrito Federal   dezembro 2021\n",
       "15519  688.51     Distrito Federal    janeiro 2022\n",
       "15528  688.51     Distrito Federal  fevereiro 2022\n",
       "15537  688.79     Distrito Federal      março 2022\n",
       "15546  688.79     Distrito Federal      abril 2022\n",
       "\n",
       "[1728 rows x 3 columns]"
      ]
     },
     "execution_count": 16,
     "metadata": {},
     "output_type": "execute_result"
    }
   ],
   "source": [
    "dfmao.drop(['Variável'], axis=1, inplace = True)\n",
    "dfmao"
   ]
  },
  {
   "cell_type": "code",
   "execution_count": 30,
   "id": "4fe413d8-18fd-4c7a-bce8-64b4f9d60a8b",
   "metadata": {},
   "outputs": [
    {
     "name": "stderr",
     "output_type": "stream",
     "text": [
      "C:\\Users\\DELL\\anaconda3\\lib\\site-packages\\pandas\\core\\generic.py:5516: SettingWithCopyWarning: \n",
      "A value is trying to be set on a copy of a slice from a DataFrame.\n",
      "Try using .loc[row_indexer,col_indexer] = value instead\n",
      "\n",
      "See the caveats in the documentation: https://pandas.pydata.org/pandas-docs/stable/user_guide/indexing.html#returning-a-view-versus-a-copy\n",
      "  self[name] = value\n"
     ]
    }
   ],
   "source": [
    "dfcusto.Valor = dfcusto.Valor.astype(float)\n",
    "dfmat.Valor = dfmat.Valor.astype(float)\n",
    "dfmao.Valor = dfmao.Valor.astype(float)"
   ]
  },
  {
   "cell_type": "code",
   "execution_count": 32,
   "id": "957004cd-6236-4243-8c0e-e259050fc95c",
   "metadata": {},
   "outputs": [
    {
     "name": "stdout",
     "output_type": "stream",
     "text": [
      "<class 'pandas.core.frame.DataFrame'>\n",
      "Int64Index: 1728 entries, 1 to 15544\n",
      "Data columns (total 3 columns):\n",
      " #   Column                Non-Null Count  Dtype  \n",
      "---  ------                --------------  -----  \n",
      " 0   Valor                 1728 non-null   float64\n",
      " 1   Unidade da Federação  1728 non-null   object \n",
      " 2   Mês                   1728 non-null   object \n",
      "dtypes: float64(1), object(2)\n",
      "memory usage: 54.0+ KB\n"
     ]
    }
   ],
   "source": [
    "dfcusto.info()"
   ]
  },
  {
   "cell_type": "code",
   "execution_count": 33,
   "id": "cbc0f65c-ac48-4a8e-bc66-d8d7fde5111e",
   "metadata": {},
   "outputs": [],
   "source": [
    "dfcusto.to_csv('CustoM.csv', index = False)\n",
    "dfmat.to_csv('CustoMat.csv', index = False)\n",
    "dfmao.to_csv('CustoMao.csv', index = False)"
   ]
  },
  {
   "cell_type": "markdown",
   "id": "131c2b5f-cc7c-4552-b50b-eff03de4a805",
   "metadata": {},
   "source": [
    "## Exportado Arquivos - PowerBI\n",
    "## ------------------------------------------------------"
   ]
  },
  {
   "cell_type": "markdown",
   "id": "2f52ca8f-32cf-4f2b-bd07-db7920560a19",
   "metadata": {},
   "source": [
    "# Aplicando ARIMA para previsão"
   ]
  },
  {
   "cell_type": "code",
   "execution_count": 40,
   "id": "0c211a0b-1133-4996-bb5a-e2d2d93d6d7c",
   "metadata": {},
   "outputs": [],
   "source": [
    "from matplotlib.pylab import rcParams\n",
    "import scipy.stats as stats\n",
    "from datetime import datetime, date\n",
    "from statsmodels.tsa.seasonal import seasonal_decompose\n",
    "from pmdarima.arima import auto_arima"
   ]
  },
  {
   "cell_type": "code",
   "execution_count": 39,
   "id": "b65b2d25-3d66-4551-91f7-360bcd428a10",
   "metadata": {},
   "outputs": [
    {
     "data": {
      "text/plain": [
       "array(['Rondônia', 'Acre', 'Amazonas', 'Roraima', 'Pará', 'Amapá',\n",
       "       'Tocantins', 'Maranhão', 'Piauí', 'Ceará', 'Rio Grande do Norte',\n",
       "       'Paraíba', 'Pernambuco', 'Alagoas', 'Sergipe', 'Bahia',\n",
       "       'Minas Gerais', 'Espírito Santo', 'Rio de Janeiro', 'São Paulo',\n",
       "       'Paraná', 'Santa Catarina', 'Rio Grande do Sul',\n",
       "       'Mato Grosso do Sul', 'Mato Grosso', 'Goiás', 'Distrito Federal'],\n",
       "      dtype=object)"
      ]
     },
     "execution_count": 39,
     "metadata": {},
     "output_type": "execute_result"
    }
   ],
   "source": [
    "dfcusto['Unidade da Federação'].unique()"
   ]
  },
  {
   "cell_type": "code",
   "execution_count": 50,
   "id": "bcfcf9bc-ec38-45eb-888a-a656f328b68c",
   "metadata": {},
   "outputs": [],
   "source": [
    "dfRS = dfcusto[dfcusto['Unidade da Federação'] == 'Rio Grande do Sul'].iloc[:,[2,0]]"
   ]
  },
  {
   "cell_type": "code",
   "execution_count": 52,
   "id": "6a85dded-3be4-4cdb-be43-e9fb1c6a4812",
   "metadata": {},
   "outputs": [],
   "source": [
    "dfRS.to_excel('ValoresRS.xlsx')"
   ]
  },
  {
   "cell_type": "code",
   "execution_count": 41,
   "id": "7fd94645-9ade-431f-88fc-00cc36d1e493",
   "metadata": {},
   "outputs": [],
   "source": [
    "dfRSa = pd.read_csv('ValoresRSb.csv', sep=';')"
   ]
  },
  {
   "cell_type": "code",
   "execution_count": 42,
   "id": "9de04c92-2ab1-45ea-aa9b-0fe11bca365c",
   "metadata": {},
   "outputs": [],
   "source": [
    "dfRSa.Data = pd.to_datetime(dfRSa.Data, format='%d/%m/%Y')"
   ]
  },
  {
   "cell_type": "code",
   "execution_count": 43,
   "id": "d7a8dd57-857a-416d-a312-7bb59e647567",
   "metadata": {},
   "outputs": [
    {
     "name": "stdout",
     "output_type": "stream",
     "text": [
      "<class 'pandas.core.frame.DataFrame'>\n",
      "RangeIndex: 64 entries, 0 to 63\n",
      "Data columns (total 2 columns):\n",
      " #   Column  Non-Null Count  Dtype         \n",
      "---  ------  --------------  -----         \n",
      " 0   Data    64 non-null     datetime64[ns]\n",
      " 1   Valor   64 non-null     float64       \n",
      "dtypes: datetime64[ns](1), float64(1)\n",
      "memory usage: 1.1 KB\n"
     ]
    }
   ],
   "source": [
    "dfRSa.info()"
   ]
  },
  {
   "cell_type": "code",
   "execution_count": 44,
   "id": "241fbf08-aa2b-4016-8f75-74fcc75e5abd",
   "metadata": {},
   "outputs": [],
   "source": [
    "dfprev = dfRSa "
   ]
  },
  {
   "cell_type": "code",
   "execution_count": 65,
   "id": "d6f0a6e8-c103-449c-93cd-5e241b7aaab1",
   "metadata": {},
   "outputs": [
    {
     "data": {
      "text/html": [
       "<div>\n",
       "<style scoped>\n",
       "    .dataframe tbody tr th:only-of-type {\n",
       "        vertical-align: middle;\n",
       "    }\n",
       "\n",
       "    .dataframe tbody tr th {\n",
       "        vertical-align: top;\n",
       "    }\n",
       "\n",
       "    .dataframe thead th {\n",
       "        text-align: right;\n",
       "    }\n",
       "</style>\n",
       "<table border=\"1\" class=\"dataframe\">\n",
       "  <thead>\n",
       "    <tr style=\"text-align: right;\">\n",
       "      <th></th>\n",
       "      <th>Valor</th>\n",
       "    </tr>\n",
       "    <tr>\n",
       "      <th>Data</th>\n",
       "      <th></th>\n",
       "    </tr>\n",
       "  </thead>\n",
       "  <tbody>\n",
       "    <tr>\n",
       "      <th>2021-07-01</th>\n",
       "      <td>1531.11</td>\n",
       "    </tr>\n",
       "    <tr>\n",
       "      <th>2021-08-01</th>\n",
       "      <td>1547.00</td>\n",
       "    </tr>\n",
       "    <tr>\n",
       "      <th>2021-09-01</th>\n",
       "      <td>1575.89</td>\n",
       "    </tr>\n",
       "    <tr>\n",
       "      <th>2021-10-01</th>\n",
       "      <td>1577.85</td>\n",
       "    </tr>\n",
       "    <tr>\n",
       "      <th>2021-11-01</th>\n",
       "      <td>1595.63</td>\n",
       "    </tr>\n",
       "    <tr>\n",
       "      <th>2021-12-01</th>\n",
       "      <td>1607.67</td>\n",
       "    </tr>\n",
       "    <tr>\n",
       "      <th>2022-01-01</th>\n",
       "      <td>1615.33</td>\n",
       "    </tr>\n",
       "    <tr>\n",
       "      <th>2022-02-01</th>\n",
       "      <td>1617.12</td>\n",
       "    </tr>\n",
       "    <tr>\n",
       "      <th>2022-03-01</th>\n",
       "      <td>1619.39</td>\n",
       "    </tr>\n",
       "    <tr>\n",
       "      <th>2022-04-01</th>\n",
       "      <td>1648.07</td>\n",
       "    </tr>\n",
       "  </tbody>\n",
       "</table>\n",
       "</div>"
      ],
      "text/plain": [
       "              Valor\n",
       "Data               \n",
       "2021-07-01  1531.11\n",
       "2021-08-01  1547.00\n",
       "2021-09-01  1575.89\n",
       "2021-10-01  1577.85\n",
       "2021-11-01  1595.63\n",
       "2021-12-01  1607.67\n",
       "2022-01-01  1615.33\n",
       "2022-02-01  1617.12\n",
       "2022-03-01  1619.39\n",
       "2022-04-01  1648.07"
      ]
     },
     "execution_count": 65,
     "metadata": {},
     "output_type": "execute_result"
    }
   ],
   "source": [
    "dfprev[dfprev.Valor > 1500]"
   ]
  },
  {
   "cell_type": "code",
   "execution_count": 46,
   "id": "31ec1780-b87d-4513-b155-4346e5e872a0",
   "metadata": {},
   "outputs": [],
   "source": [
    "dfprev = dfprev.set_index('Data')"
   ]
  },
  {
   "cell_type": "code",
   "execution_count": 47,
   "id": "56ccea9a-b6af-4c71-a66b-d5f815fec78b",
   "metadata": {},
   "outputs": [
    {
     "data": {
      "text/plain": [
       "[<matplotlib.lines.Line2D at 0x1f7134badc0>]"
      ]
     },
     "execution_count": 47,
     "metadata": {},
     "output_type": "execute_result"
    },
    {
     "data": {
      "image/png": "[encoded data removed]",
      "text/plain": [
       "<Figure size 432x288 with 1 Axes>"
      ]
     },
     "metadata": {
      "needs_background": "light"
     },
     "output_type": "display_data"
    }
   ],
   "source": [
    "plt.plot(dfprev)"
   ]
  },
  {
   "cell_type": "code",
   "execution_count": null,
   "id": "ecf3bb71-a1ad-4838-8ed6-e62001ab21fd",
   "metadata": {},
   "outputs": [],
   "source": [
    "decomposed = seasonal.seasonal_decompose(x=dfprev, freq=12, extrapolate_trend='freq')"
   ]
  },
  {
   "cell_type": "code",
   "execution_count": 48,
   "id": "d3b2c472-c51c-4616-8276-4f6bb089789a",
   "metadata": {},
   "outputs": [],
   "source": [
    "prev_series = dfprev['Valor']"
   ]
  },
  {
   "cell_type": "code",
   "execution_count": 49,
   "id": "a11ea582-9280-4e6e-8150-75d2594fcfb0",
   "metadata": {},
   "outputs": [
    {
     "data": {
      "text/plain": [
       "Data\n",
       "2017-01-01    1092.97\n",
       "2017-02-01    1095.42\n",
       "2017-03-01    1099.12\n",
       "2017-04-01    1100.78\n",
       "2017-05-01    1104.25\n",
       "               ...   \n",
       "2021-12-01    1607.67\n",
       "2022-01-01    1615.33\n",
       "2022-02-01    1617.12\n",
       "2022-03-01    1619.39\n",
       "2022-04-01    1648.07\n",
       "Name: Valor, Length: 64, dtype: float64"
      ]
     },
     "execution_count": 49,
     "metadata": {},
     "output_type": "execute_result"
    }
   ],
   "source": [
    "prev_series"
   ]
  },
  {
   "cell_type": "code",
   "execution_count": 54,
   "id": "af6f4094-c502-4751-a2d2-d8c6ebe5e66c",
   "metadata": {},
   "outputs": [
    {
     "name": "stderr",
     "output_type": "stream",
     "text": [
      "C:\\Users\\DELL\\AppData\\Local\\Temp/ipykernel_14880/2240023390.py:1: FutureWarning: the 'freq'' keyword is deprecated, use 'period' instead\n",
      "  decomp = seasonal_decompose(prev_series, freq=12, extrapolate_trend='freq')\n"
     ]
    }
   ],
   "source": [
    "decomp = seasonal_decompose(prev_series, freq=12, extrapolate_trend='freq')"
   ]
  },
  {
   "cell_type": "code",
   "execution_count": 55,
   "id": "a30528ab-9813-4331-914a-a83d07e14cb5",
   "metadata": {},
   "outputs": [],
   "source": [
    "tendencia = decomp.trend"
   ]
  },
  {
   "cell_type": "code",
   "execution_count": 57,
   "id": "3f8a4dad-5987-4424-8854-181cdfa143e8",
   "metadata": {},
   "outputs": [
    {
     "data": {
      "text/plain": [
       "[<matplotlib.lines.Line2D at 0x1f7122f04c0>]"
      ]
     },
     "execution_count": 57,
     "metadata": {},
     "output_type": "execute_result"
    },
    {
     "data": {
      "image/png": "[encoded data removed]",
      "text/plain": [
       "<Figure size 432x288 with 1 Axes>"
      ]
     },
     "metadata": {
      "needs_background": "light"
     },
     "output_type": "display_data"
    }
   ],
   "source": [
    "plt.plot(tendencia)"
   ]
  },
  {
   "cell_type": "code",
   "execution_count": 56,
   "id": "04a5b990-d1b6-4a63-9ea7-365451ee188e",
   "metadata": {},
   "outputs": [
    {
     "data": {
      "text/plain": [
       "Data\n",
       "2017-01-01    1091.753362\n",
       "2017-02-01    1095.597306\n",
       "2017-03-01    1099.441250\n",
       "2017-04-01    1103.285193\n",
       "2017-05-01    1107.129137\n",
       "                 ...     \n",
       "2021-12-01    1617.476164\n",
       "2022-01-01    1638.191926\n",
       "2022-02-01    1658.907688\n",
       "2022-03-01    1679.623450\n",
       "2022-04-01    1700.339212\n",
       "Name: trend, Length: 64, dtype: float64"
      ]
     },
     "execution_count": 56,
     "metadata": {},
     "output_type": "execute_result"
    }
   ],
   "source": [
    "tendencia"
   ]
  },
  {
   "cell_type": "code",
   "execution_count": 53,
   "id": "37130abd-8ef1-4d53-b73a-4403287ea11a",
   "metadata": {},
   "outputs": [
    {
     "data": {
      "text/plain": [
       "(0, 2, 1)"
      ]
     },
     "execution_count": 53,
     "metadata": {},
     "output_type": "execute_result"
    }
   ],
   "source": [
    "modelo = auto_arima(prev_series)\n",
    "modelo.order"
   ]
  },
  {
   "cell_type": "code",
   "execution_count": 60,
   "id": "cde8fc1a-3456-42b4-b9d5-000f9daab2e0",
   "metadata": {},
   "outputs": [
    {
     "data": {
      "text/html": [
       "<div>\n",
       "<style scoped>\n",
       "    .dataframe tbody tr th:only-of-type {\n",
       "        vertical-align: middle;\n",
       "    }\n",
       "\n",
       "    .dataframe tbody tr th {\n",
       "        vertical-align: top;\n",
       "    }\n",
       "\n",
       "    .dataframe thead th {\n",
       "        text-align: right;\n",
       "    }\n",
       "</style>\n",
       "<table border=\"1\" class=\"dataframe\">\n",
       "  <thead>\n",
       "    <tr style=\"text-align: right;\">\n",
       "      <th></th>\n",
       "      <th>Previsão de valores 12 meses</th>\n",
       "    </tr>\n",
       "  </thead>\n",
       "  <tbody>\n",
       "    <tr>\n",
       "      <th>0</th>\n",
       "      <td>1662.078327</td>\n",
       "    </tr>\n",
       "    <tr>\n",
       "      <th>1</th>\n",
       "      <td>1676.086655</td>\n",
       "    </tr>\n",
       "    <tr>\n",
       "      <th>2</th>\n",
       "      <td>1690.094982</td>\n",
       "    </tr>\n",
       "    <tr>\n",
       "      <th>3</th>\n",
       "      <td>1704.103310</td>\n",
       "    </tr>\n",
       "    <tr>\n",
       "      <th>4</th>\n",
       "      <td>1718.111637</td>\n",
       "    </tr>\n",
       "    <tr>\n",
       "      <th>5</th>\n",
       "      <td>1732.119964</td>\n",
       "    </tr>\n",
       "    <tr>\n",
       "      <th>6</th>\n",
       "      <td>1746.128292</td>\n",
       "    </tr>\n",
       "    <tr>\n",
       "      <th>7</th>\n",
       "      <td>1760.136619</td>\n",
       "    </tr>\n",
       "    <tr>\n",
       "      <th>8</th>\n",
       "      <td>1774.144947</td>\n",
       "    </tr>\n",
       "    <tr>\n",
       "      <th>9</th>\n",
       "      <td>1788.153274</td>\n",
       "    </tr>\n",
       "    <tr>\n",
       "      <th>10</th>\n",
       "      <td>1802.161601</td>\n",
       "    </tr>\n",
       "    <tr>\n",
       "      <th>11</th>\n",
       "      <td>1816.169929</td>\n",
       "    </tr>\n",
       "  </tbody>\n",
       "</table>\n",
       "</div>"
      ],
      "text/plain": [
       "    Previsão de valores 12 meses\n",
       "0                    1662.078327\n",
       "1                    1676.086655\n",
       "2                    1690.094982\n",
       "3                    1704.103310\n",
       "4                    1718.111637\n",
       "5                    1732.119964\n",
       "6                    1746.128292\n",
       "7                    1760.136619\n",
       "8                    1774.144947\n",
       "9                    1788.153274\n",
       "10                   1802.161601\n",
       "11                   1816.169929"
      ]
     },
     "execution_count": 60,
     "metadata": {},
     "output_type": "execute_result"
    }
   ],
   "source": [
    "previsao = pd.DataFrame(modelo.predict(n_periods=12))\n",
    "previsao.columns = ['Previsão de valores 12 meses']\n",
    "previsao"
   ]
  },
  {
   "cell_type": "code",
   "execution_count": 62,
   "id": "7989ba0a-f865-4b2e-9b52-8d9778a690d6",
   "metadata": {},
   "outputs": [],
   "source": [
    "previsao.to_excel('Previsão 1 ano.xlsx')"
   ]
  }
 ],
 "metadata": {
  "kernelspec": {
   "display_name": "Python 3 (ipykernel)",
   "language": "python",
   "name": "python3"
  },
  "language_info": {
   "codemirror_mode": {
    "name": "ipython",
    "version": 3
   },
   "file_extension": ".py",
   "mimetype": "text/x-python",
   "name": "python",
   "nbconvert_exporter": "python",
   "pygments_lexer": "ipython3",
   "version": "3.9.7"
  }
 },
 "nbformat": 4,
 "nbformat_minor": 5
}
